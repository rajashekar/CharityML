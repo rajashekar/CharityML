{
  "nbformat": 4,
  "nbformat_minor": 0,
  "metadata": {
    "colab": {
      "name": "train_pytorch_v2.ipynb",
      "provenance": [],
      "collapsed_sections": [],
      "machine_shape": "hm",
      "background_execution": "on",
      "mount_file_id": "1qgUzRgZ-SfEB7-cnzmuqRf8ygMMJqKFU",
      "authorship_tag": "ABX9TyP+H645TNEKuSoW4y3XpuQu",
      "include_colab_link": true
    },
    "kernelspec": {
      "name": "python3",
      "display_name": "Python 3"
    },
    "language_info": {
      "name": "python"
    },
    "accelerator": "GPU",
    "gpuClass": "standard"
  },
  "cells": [
    {
      "cell_type": "markdown",
      "metadata": {
        "id": "view-in-github",
        "colab_type": "text"
      },
      "source": [
        "<a href=\"https://colab.research.google.com/github/rajashekar/CharityML/blob/master/train_password_pytorch_v2.ipynb\" target=\"_parent\"><img src=\"https://colab.research.google.com/assets/colab-badge.svg\" alt=\"Open In Colab\"/></a>"
      ]
    },
    {
      "cell_type": "code",
      "source": [
        "!pip install torchtext==0.12.0"
      ],
      "metadata": {
        "colab": {
          "base_uri": "https://localhost:8080/"
        },
        "id": "Cuc_TC53oMsI",
        "outputId": "b56ca753-d65f-46fd-d8a8-b7503bbd7eac"
      },
      "execution_count": 1,
      "outputs": [
        {
          "output_type": "stream",
          "name": "stdout",
          "text": [
            "Looking in indexes: https://pypi.org/simple, https://us-python.pkg.dev/colab-wheels/public/simple/\n",
            "Requirement already satisfied: torchtext==0.12.0 in /usr/local/lib/python3.7/dist-packages (0.12.0)\n",
            "Requirement already satisfied: numpy in /usr/local/lib/python3.7/dist-packages (from torchtext==0.12.0) (1.21.6)\n",
            "Requirement already satisfied: torch==1.11.0 in /usr/local/lib/python3.7/dist-packages (from torchtext==0.12.0) (1.11.0+cu113)\n",
            "Requirement already satisfied: requests in /usr/local/lib/python3.7/dist-packages (from torchtext==0.12.0) (2.23.0)\n",
            "Requirement already satisfied: tqdm in /usr/local/lib/python3.7/dist-packages (from torchtext==0.12.0) (4.64.0)\n",
            "Requirement already satisfied: typing-extensions in /usr/local/lib/python3.7/dist-packages (from torch==1.11.0->torchtext==0.12.0) (4.1.1)\n",
            "Requirement already satisfied: urllib3!=1.25.0,!=1.25.1,<1.26,>=1.21.1 in /usr/local/lib/python3.7/dist-packages (from requests->torchtext==0.12.0) (1.24.3)\n",
            "Requirement already satisfied: chardet<4,>=3.0.2 in /usr/local/lib/python3.7/dist-packages (from requests->torchtext==0.12.0) (3.0.4)\n",
            "Requirement already satisfied: certifi>=2017.4.17 in /usr/local/lib/python3.7/dist-packages (from requests->torchtext==0.12.0) (2022.6.15)\n",
            "Requirement already satisfied: idna<3,>=2.5 in /usr/local/lib/python3.7/dist-packages (from requests->torchtext==0.12.0) (2.10)\n"
          ]
        }
      ]
    },
    {
      "cell_type": "code",
      "source": [
        "import re\n",
        "from torchtext.data.functional import numericalize_tokens_from_iterator\n",
        "from torch.utils.data import DataLoader\n",
        "import numpy as np\n",
        "import torch\n",
        "import torch.nn as nn\n",
        "import torch.nn.functional as F\n",
        "\n",
        "from sklearn.model_selection import train_test_split\n"
      ],
      "metadata": {
        "id": "-ktzoWdQbYSm"
      },
      "execution_count": 2,
      "outputs": []
    },
    {
      "cell_type": "code",
      "execution_count": 3,
      "metadata": {
        "colab": {
          "base_uri": "https://localhost:8080/"
        },
        "id": "O5ehKpxQ_AYh",
        "outputId": "6d9cd67d-6287-45ae-8af0-eb5618e471aa"
      },
      "outputs": [
        {
          "output_type": "stream",
          "name": "stdout",
          "text": [
            "/content/drive/MyDrive/Colab/password\n"
          ]
        }
      ],
      "source": [
        "%cd /content/drive/MyDrive/Colab/password/"
      ]
    },
    {
      "cell_type": "code",
      "source": [
        "data = open('data/passwords_db.txt',).read()"
      ],
      "metadata": {
        "id": "2d1IFpmh_zdj"
      },
      "execution_count": 4,
      "outputs": []
    },
    {
      "cell_type": "code",
      "source": [
        "len(data)"
      ],
      "metadata": {
        "colab": {
          "base_uri": "https://localhost:8080/"
        },
        "id": "-nyC9CUcAT0P",
        "outputId": "04a7349f-f5df-4b1d-ee4d-6ce9c064c0c3"
      },
      "execution_count": 5,
      "outputs": [
        {
          "output_type": "execute_result",
          "data": {
            "text/plain": [
              "178313552"
            ]
          },
          "metadata": {},
          "execution_count": 5
        }
      ]
    },
    {
      "cell_type": "code",
      "source": [
        "passwds = data.split(\"\\n\")"
      ],
      "metadata": {
        "id": "HgnsdNi3AVvy"
      },
      "execution_count": 6,
      "outputs": []
    },
    {
      "cell_type": "code",
      "source": [
        "len(passwds)"
      ],
      "metadata": {
        "colab": {
          "base_uri": "https://localhost:8080/"
        },
        "id": "WV4wLDsMAXVi",
        "outputId": "e0a993b0-38c7-42d7-a6f3-61b127d64258"
      },
      "execution_count": 7,
      "outputs": [
        {
          "output_type": "execute_result",
          "data": {
            "text/plain": [
              "18308617"
            ]
          },
          "metadata": {},
          "execution_count": 7
        }
      ]
    },
    {
      "cell_type": "markdown",
      "source": [
        "# Build vocab"
      ],
      "metadata": {
        "id": "nPPAOuhHDXtS"
      }
    },
    {
      "cell_type": "code",
      "source": [
        "vocab = sorted(list(set(''.join(passwds))))"
      ],
      "metadata": {
        "id": "x5OIHLrwDZ92"
      },
      "execution_count": 8,
      "outputs": []
    },
    {
      "cell_type": "code",
      "source": [
        "len(vocab)"
      ],
      "metadata": {
        "colab": {
          "base_uri": "https://localhost:8080/"
        },
        "id": "TPC8t3hIDgen",
        "outputId": "d34f7173-32e8-4a15-b4d8-2e21e0ca8aff"
      },
      "execution_count": 9,
      "outputs": [
        {
          "output_type": "execute_result",
          "data": {
            "text/plain": [
              "95"
            ]
          },
          "metadata": {},
          "execution_count": 9
        }
      ]
    },
    {
      "cell_type": "code",
      "source": [
        "char_indices = dict((c, i) for i, c in enumerate(vocab))\n",
        "indices_char = dict((i, c) for i, c in enumerate(vocab))"
      ],
      "metadata": {
        "id": "r9GLNMrLDiun"
      },
      "execution_count": 10,
      "outputs": []
    },
    {
      "cell_type": "code",
      "source": [
        "indices_char[0]"
      ],
      "metadata": {
        "colab": {
          "base_uri": "https://localhost:8080/",
          "height": 35
        },
        "id": "XPsOB_F3YXBi",
        "outputId": "efa2ee81-dae6-4db2-f7a1-26ec1e9fb6b5"
      },
      "execution_count": 11,
      "outputs": [
        {
          "output_type": "execute_result",
          "data": {
            "text/plain": [
              "' '"
            ],
            "application/vnd.google.colaboratory.intrinsic+json": {
              "type": "string"
            }
          },
          "metadata": {},
          "execution_count": 11
        }
      ]
    },
    {
      "cell_type": "code",
      "source": [
        "char_indices[' ']"
      ],
      "metadata": {
        "colab": {
          "base_uri": "https://localhost:8080/"
        },
        "id": "TTO0cF_IYRWC",
        "outputId": "33e49e00-b5fc-4d58-b9a2-0ef26de6de14"
      },
      "execution_count": 12,
      "outputs": [
        {
          "output_type": "execute_result",
          "data": {
            "text/plain": [
              "0"
            ]
          },
          "metadata": {},
          "execution_count": 12
        }
      ]
    },
    {
      "cell_type": "code",
      "source": [
        "char_indices[indices_char[0]] = len(vocab)\n",
        "indices_char[len(vocab)] = indices_char[0]\n",
        "\n",
        "indices_char[0] = '<<pad>>'\n",
        "char_indices['<<pad>>'] = 0"
      ],
      "metadata": {
        "id": "FPS6BnFpaGM5"
      },
      "execution_count": 13,
      "outputs": []
    },
    {
      "cell_type": "code",
      "source": [
        "char_indices[' ']"
      ],
      "metadata": {
        "colab": {
          "base_uri": "https://localhost:8080/"
        },
        "id": "2ib6CLRNmvdK",
        "outputId": "fbdd4bf1-f72d-40aa-9b9f-217faf9ab0d3"
      },
      "execution_count": 14,
      "outputs": [
        {
          "output_type": "execute_result",
          "data": {
            "text/plain": [
              "95"
            ]
          },
          "metadata": {},
          "execution_count": 14
        }
      ]
    },
    {
      "cell_type": "code",
      "source": [
        "max_len = max(passwds, key=len)"
      ],
      "metadata": {
        "id": "yM89e0wnDk6n"
      },
      "execution_count": 15,
      "outputs": []
    },
    {
      "cell_type": "code",
      "source": [
        "print(f\"Total number of passwords {len(passwds)}\")\n",
        "print(f\"Passwords vocab size {len(char_indices)}\")\n",
        "print(f\"Max passwords length {len(max_len)}\")"
      ],
      "metadata": {
        "colab": {
          "base_uri": "https://localhost:8080/"
        },
        "id": "X8CXDDoTDnQn",
        "outputId": "40f2618a-78aa-4da4-926b-0f9974ca9b2b"
      },
      "execution_count": 16,
      "outputs": [
        {
          "output_type": "stream",
          "name": "stdout",
          "text": [
            "Total number of passwords 18308617\n",
            "Passwords vocab size 96\n",
            "Max passwords length 50\n"
          ]
        }
      ]
    },
    {
      "cell_type": "code",
      "source": [
        "passwds_train, passwds_rem = train_test_split(passwds, test_size=0.3, shuffle=True)\n"
      ],
      "metadata": {
        "id": "OKaMcnnBhVEE"
      },
      "execution_count": 17,
      "outputs": []
    },
    {
      "cell_type": "code",
      "source": [
        "print(len(passwds_train), len(passwds_rem))"
      ],
      "metadata": {
        "colab": {
          "base_uri": "https://localhost:8080/"
        },
        "id": "PBmZl3n6hr1Q",
        "outputId": "e831ec3a-67a4-422f-f140-0eca51b32e54"
      },
      "execution_count": 18,
      "outputs": [
        {
          "output_type": "stream",
          "name": "stdout",
          "text": [
            "12816031 5492586\n"
          ]
        }
      ]
    },
    {
      "cell_type": "code",
      "source": [
        "passwds_val, passwds_test = train_test_split(passwds_rem, test_size=0.5, shuffle=True)"
      ],
      "metadata": {
        "id": "8btgOdd2hzar"
      },
      "execution_count": 19,
      "outputs": []
    },
    {
      "cell_type": "code",
      "source": [
        "print(len(passwds_val), len(passwds_test))"
      ],
      "metadata": {
        "colab": {
          "base_uri": "https://localhost:8080/"
        },
        "id": "waa_siXih5n5",
        "outputId": "c124260e-dfab-4a03-8c15-e8c3653d34f1"
      },
      "execution_count": 20,
      "outputs": [
        {
          "output_type": "stream",
          "name": "stdout",
          "text": [
            "2746293 2746293\n"
          ]
        }
      ]
    },
    {
      "cell_type": "code",
      "source": [
        "from torch.utils.data import TensorDataset, DataLoader\n",
        "\n",
        "def batch_data(samples, vocab, seq_len, batch_size):\n",
        "  ids_iter = numericalize_tokens_from_iterator(vocab, [re.findall('.',s) for s in samples])\n",
        "\n",
        "  inputs = []\n",
        "  targets = [] \n",
        "  for ids in ids_iter:\n",
        "    vector = [num for num in ids]\n",
        "\n",
        "    for i in range(len(vector)):\n",
        "      if i+seq_len >= len(vector):\n",
        "        break\n",
        "      inputs.append(vector[i:i+seq_len])\n",
        "      targets.append(vector[i+seq_len])\n",
        "\n",
        "  tensor_data = TensorDataset(torch.LongTensor(inputs), torch.LongTensor(targets))\n",
        "  dataloader = DataLoader(tensor_data, batch_size=batch_size, shuffle=True)\n",
        "\n",
        "  # return a dataloader\n",
        "  return dataloader"
      ],
      "metadata": {
        "id": "joicePbZn6GW"
      },
      "execution_count": 21,
      "outputs": []
    },
    {
      "cell_type": "code",
      "source": [
        "def index_to_chars(input):\n",
        "  target = []\n",
        "  for i in input:\n",
        "    if i.item() == 0:\n",
        "      break\n",
        "    target.append(indices_char[i.item()])\n",
        "  \n",
        "  return target"
      ],
      "metadata": {
        "id": "p7P7CCablbux"
      },
      "execution_count": 22,
      "outputs": []
    },
    {
      "cell_type": "code",
      "source": [
        "def index_to_chars_bleu(input):\n",
        "  target = []\n",
        "  for i in input:\n",
        "    if i.item() == char_indices[' ']:\n",
        "      target.append('<s>')\n",
        "    else:\n",
        "      target.append(indices_char[i.item()])\n",
        "  \n",
        "  return target"
      ],
      "metadata": {
        "id": "KWqODv5dmpGi"
      },
      "execution_count": 23,
      "outputs": []
    },
    {
      "cell_type": "code",
      "source": [
        "batch_size=32\n",
        "seq_len=3"
      ],
      "metadata": {
        "id": "cYRWXoSrYTwA"
      },
      "execution_count": 24,
      "outputs": []
    },
    {
      "cell_type": "code",
      "source": [
        "train_loader = batch_data(passwds_train, char_indices, seq_len, batch_size)\n",
        "val_loader = batch_data(passwds_val, char_indices, seq_len, batch_size)\n",
        "test_loader = batch_data(passwds_test, char_indices, seq_len, batch_size)"
      ],
      "metadata": {
        "id": "Gd4URzFuW4fP"
      },
      "execution_count": 25,
      "outputs": []
    },
    {
      "cell_type": "code",
      "source": [
        "input_test_batch, target_test_batch = next(iter(test_loader))"
      ],
      "metadata": {
        "id": "-dqY3_oSjdJC"
      },
      "execution_count": 26,
      "outputs": []
    },
    {
      "cell_type": "code",
      "source": [
        "input_test_batch.shape"
      ],
      "metadata": {
        "colab": {
          "base_uri": "https://localhost:8080/"
        },
        "id": "nEkZaX22t3NH",
        "outputId": "a17ac095-1fa8-4849-86ff-42ec59649672"
      },
      "execution_count": 27,
      "outputs": [
        {
          "output_type": "execute_result",
          "data": {
            "text/plain": [
              "torch.Size([32, 3])"
            ]
          },
          "metadata": {},
          "execution_count": 27
        }
      ]
    },
    {
      "cell_type": "code",
      "source": [
        "input_test_batch[0].shape"
      ],
      "metadata": {
        "colab": {
          "base_uri": "https://localhost:8080/"
        },
        "id": "2k5on5PwwnpY",
        "outputId": "e7251bad-b879-493a-d356-070a5c5797ad"
      },
      "execution_count": 28,
      "outputs": [
        {
          "output_type": "execute_result",
          "data": {
            "text/plain": [
              "torch.Size([3])"
            ]
          },
          "metadata": {},
          "execution_count": 28
        }
      ]
    },
    {
      "cell_type": "code",
      "source": [
        "target_test_batch.shape"
      ],
      "metadata": {
        "colab": {
          "base_uri": "https://localhost:8080/"
        },
        "id": "wAqwYG6Nj3_G",
        "outputId": "2836e766-84fc-4faa-f146-2bf1d910c0df"
      },
      "execution_count": 29,
      "outputs": [
        {
          "output_type": "execute_result",
          "data": {
            "text/plain": [
              "torch.Size([32])"
            ]
          },
          "metadata": {},
          "execution_count": 29
        }
      ]
    },
    {
      "cell_type": "code",
      "source": [
        "# Check for a GPU\n",
        "train_on_gpu = torch.cuda.is_available()\n",
        "if not train_on_gpu:\n",
        "    print('No GPU found. Please use a GPU to train your neural network.')"
      ],
      "metadata": {
        "id": "G2Li-OXIniKQ"
      },
      "execution_count": 30,
      "outputs": []
    },
    {
      "cell_type": "markdown",
      "source": [
        "# Model"
      ],
      "metadata": {
        "id": "rPkI2JMGEUx4"
      }
    },
    {
      "cell_type": "code",
      "source": [
        "import torch.nn as nn\n",
        "\n",
        "class RNN(nn.Module):\n",
        "    \n",
        "    def __init__(self, vocab_size, output_size, embedding_dim, hidden_dim, n_layers, dropout=0.5):\n",
        "        \"\"\"\n",
        "        Initialize the PyTorch RNN Module\n",
        "        :param vocab_size: The number of input dimensions of the neural network (the size of the vocabulary)\n",
        "        :param output_size: The number of output dimensions of the neural network\n",
        "        :param embedding_dim: The size of embeddings, should you choose to use them        \n",
        "        :param hidden_dim: The size of the hidden layer outputs\n",
        "        :param dropout: dropout to add in between LSTM/GRU layers\n",
        "        \"\"\"\n",
        "        super(RNN, self).__init__()\n",
        "        # TODO: Implement function\n",
        "        # set class variables\n",
        "        self.output_size = output_size\n",
        "        self.n_layers = n_layers\n",
        "        self.hidden_dim = hidden_dim\n",
        "        \n",
        "        # define model layers\n",
        "        self.embedding = nn.Embedding(vocab_size, embedding_dim)\n",
        "        self.lstm = nn.LSTM(embedding_dim, hidden_dim, n_layers,\n",
        "                            dropout=dropout, batch_first=True)\n",
        "        # dropout layer                    \n",
        "        # self.dropout = nn.Dropout(0.3)\n",
        "\n",
        "        # linear and sigmoid layers\n",
        "        self.fc = nn.Linear(hidden_dim, output_size)\n",
        "    \n",
        "    \n",
        "    def forward(self, nn_input, hidden):\n",
        "        \"\"\"\n",
        "        Forward propagation of the neural network\n",
        "        :param nn_input: The input to the neural network\n",
        "        :param hidden: The hidden state        \n",
        "        :return: Two Tensors, the output of the neural network and the latest hidden state\n",
        "        \"\"\"\n",
        "        # TODO: Implement function   \n",
        "        batch_size = nn_input.size(0)\n",
        "\n",
        "        # embeddings and lstm_out\n",
        "        embeds = self.embedding(nn_input)\n",
        "        lstm_out, hidden = self.lstm(embeds, hidden)\n",
        "\n",
        "        #stach up lstm outputs \n",
        "        out = lstm_out.contiguous().view(-1, self.hidden_dim)\n",
        "\n",
        "        # dropout and fully-connected layer\n",
        "        # came to know that removing dropout might help converge faster\n",
        "        # out = self.dropout(out)\n",
        "        out = self.fc(out)\n",
        "        # reshape to be batch_size first\n",
        "        output = out.view(batch_size, -1, self.output_size)\n",
        "\n",
        "        # get last batch\n",
        "        out = output[:, -1]\n",
        "        # return one batch of output word scores and the hidden state\n",
        "        return out, hidden\n",
        "    \n",
        "    \n",
        "    def init_hidden(self, batch_size):\n",
        "        '''\n",
        "        Initialize the hidden state of an LSTM/GRU\n",
        "        :param batch_size: The batch_size of the hidden state\n",
        "        :return: hidden state of dims (n_layers, batch_size, hidden_dim)\n",
        "        '''\n",
        "        # Implement function\n",
        "        # initialize hidden state with zero weights, and move to GPU if available\n",
        "        weight = next(self.parameters()).data\n",
        "\n",
        "        if train_on_gpu:\n",
        "          hidden = (weight.new(self.n_layers, batch_size, self.hidden_dim).zero_().cuda(),\n",
        "                    weight.new(self.n_layers, batch_size, self.hidden_dim).zero_().cuda())\n",
        "        else:\n",
        "          hidden = (weight.new(self.n_layers, batch_size, self.hidden_dim).zero_(),\n",
        "                    weight.new(self.n_layers, batch_size, self.hidden_dim).zero_())\n",
        "        return hidden"
      ],
      "metadata": {
        "id": "BwBxgzW1AZYt"
      },
      "execution_count": 39,
      "outputs": []
    },
    {
      "cell_type": "code",
      "source": [
        "learning_rate = 0.001\n",
        "vocab_size = len(indices_char)\n",
        "output_size = vocab_size\n",
        "embedding_dim = 256\n",
        "hidden_dim = 256\n",
        "# number of RNN layers\n",
        "n_layers = 3\n",
        "\n",
        "rnn = RNN(vocab_size, output_size, embedding_dim, hidden_dim, n_layers, dropout=0.5)\n",
        "\n",
        "if train_on_gpu:\n",
        "    rnn.cuda()\n",
        "\n",
        "# defining loss and optimization functions for training\n",
        "optimizer = torch.optim.Adam(rnn.parameters(), lr=learning_rate)\n",
        "criterion = nn.CrossEntropyLoss()"
      ],
      "metadata": {
        "id": "Po19NdtioYOR"
      },
      "execution_count": 40,
      "outputs": []
    },
    {
      "cell_type": "code",
      "source": [
        "rnn"
      ],
      "metadata": {
        "colab": {
          "base_uri": "https://localhost:8080/"
        },
        "id": "NvpumSzGp1G7",
        "outputId": "9acba321-0dba-49f6-c1c7-2b81d880d659"
      },
      "execution_count": 41,
      "outputs": [
        {
          "output_type": "execute_result",
          "data": {
            "text/plain": [
              "RNN(\n",
              "  (embedding): Embedding(96, 256)\n",
              "  (lstm): LSTM(256, 256, num_layers=3, batch_first=True, dropout=0.5)\n",
              "  (fc): Linear(in_features=256, out_features=96, bias=True)\n",
              ")"
            ]
          },
          "metadata": {},
          "execution_count": 41
        }
      ]
    },
    {
      "cell_type": "code",
      "source": [
        "hidden = rnn.init_hidden(batch_size)\n",
        "hidden = tuple([each.data for each in hidden])\n",
        "\n",
        "y_pred, hidden = rnn(input_test_batch.cuda(), hidden)"
      ],
      "metadata": {
        "id": "8ix4zi_so0an"
      },
      "execution_count": 97,
      "outputs": []
    },
    {
      "cell_type": "code",
      "source": [
        "y_pred.shape"
      ],
      "metadata": {
        "colab": {
          "base_uri": "https://localhost:8080/"
        },
        "id": "BYJC9SF6rZ20",
        "outputId": "b397f7de-56ef-4ba1-c0d5-e617d64c73a3"
      },
      "execution_count": 98,
      "outputs": [
        {
          "output_type": "execute_result",
          "data": {
            "text/plain": [
              "torch.Size([32, 96])"
            ]
          },
          "metadata": {},
          "execution_count": 98
        }
      ]
    },
    {
      "cell_type": "code",
      "source": [
        "actual = index_to_chars(target_test_batch)\n",
        "predictions = index_to_chars(torch.argmax(y_pred, dim=1))"
      ],
      "metadata": {
        "id": "MzNFCHVlrzLF"
      },
      "execution_count": 99,
      "outputs": []
    },
    {
      "cell_type": "code",
      "source": [
        "actual"
      ],
      "metadata": {
        "colab": {
          "base_uri": "https://localhost:8080/"
        },
        "id": "-2BU0g6UtUXG",
        "outputId": "57f9d1dc-3ca4-4269-e735-c6b9832d682d"
      },
      "execution_count": 100,
      "outputs": [
        {
          "output_type": "execute_result",
          "data": {
            "text/plain": [
              "['e',\n",
              " 'e',\n",
              " 'g',\n",
              " 't',\n",
              " '3',\n",
              " 'm',\n",
              " 'a',\n",
              " '0',\n",
              " 'v',\n",
              " '6',\n",
              " 'Z',\n",
              " 'R',\n",
              " '0',\n",
              " 's',\n",
              " 'L',\n",
              " '-',\n",
              " '7',\n",
              " 'm',\n",
              " 'a',\n",
              " 'e',\n",
              " 'i',\n",
              " '1',\n",
              " '5',\n",
              " 't',\n",
              " 'r',\n",
              " 'b',\n",
              " 'n',\n",
              " '7',\n",
              " 'c',\n",
              " 'v',\n",
              " 'g',\n",
              " '4']"
            ]
          },
          "metadata": {},
          "execution_count": 100
        }
      ]
    },
    {
      "cell_type": "code",
      "source": [
        "predictions"
      ],
      "metadata": {
        "colab": {
          "base_uri": "https://localhost:8080/"
        },
        "id": "igQv5tdhx8kv",
        "outputId": "2bee3c0a-ba7c-4862-f227-6e75a0eb3868"
      },
      "execution_count": 101,
      "outputs": [
        {
          "output_type": "execute_result",
          "data": {
            "text/plain": [
              "['=',\n",
              " '=',\n",
              " 'G',\n",
              " '=',\n",
              " '=',\n",
              " '=',\n",
              " '=',\n",
              " '=',\n",
              " '=',\n",
              " '=',\n",
              " 'G',\n",
              " 'G',\n",
              " '=',\n",
              " 'G',\n",
              " 'G',\n",
              " 'G',\n",
              " '=',\n",
              " '=',\n",
              " '=',\n",
              " '6',\n",
              " 'G',\n",
              " '=',\n",
              " '=',\n",
              " '=',\n",
              " '=',\n",
              " '=',\n",
              " '=',\n",
              " '=',\n",
              " '=',\n",
              " '=',\n",
              " '=',\n",
              " '=']"
            ]
          },
          "metadata": {},
          "execution_count": 101
        }
      ]
    },
    {
      "cell_type": "markdown",
      "source": [
        "# BLEU Score"
      ],
      "metadata": {
        "id": "aGOERom3iUhN"
      }
    },
    {
      "cell_type": "code",
      "source": [
        "from torchtext.data.metrics import bleu_score\n",
        "\n",
        "# if all are equal\n",
        "candidate_corpus = ['a', 'b', 'c']\n",
        "references_corpus = ['a', 'b', 'c']\n",
        "bleu_score(candidate_corpus, references_corpus, max_n=1, weights=[0.25])"
      ],
      "metadata": {
        "colab": {
          "base_uri": "https://localhost:8080/"
        },
        "id": "HkjPUyXyiZMt",
        "outputId": "fff31ebf-fae3-4a88-f572-f23bf4c3d981"
      },
      "execution_count": 47,
      "outputs": [
        {
          "output_type": "execute_result",
          "data": {
            "text/plain": [
              "1.0"
            ]
          },
          "metadata": {},
          "execution_count": 47
        }
      ]
    },
    {
      "cell_type": "code",
      "source": [
        "# if all are different\n",
        "candidate_corpus = ['a', 'b', 'c']\n",
        "references_corpus = ['d', 'e', 'd']\n",
        "bleu_score(candidate_corpus, references_corpus, max_n=1, weights=[0.25])"
      ],
      "metadata": {
        "colab": {
          "base_uri": "https://localhost:8080/"
        },
        "id": "fiEYAXPihu3d",
        "outputId": "3705a95f-deb3-44ad-82d2-f75a30b358c6"
      },
      "execution_count": 127,
      "outputs": [
        {
          "output_type": "execute_result",
          "data": {
            "text/plain": [
              "0.0"
            ]
          },
          "metadata": {},
          "execution_count": 127
        }
      ]
    },
    {
      "cell_type": "code",
      "source": [
        "# if some are matching\n",
        "candidate_corpus = ['a', 'b', 'c']\n",
        "references_corpus = ['a', 'b', 'd']\n",
        "bleu_score(candidate_corpus, references_corpus, max_n=1, weights=[0.25])"
      ],
      "metadata": {
        "colab": {
          "base_uri": "https://localhost:8080/"
        },
        "id": "vacWjk3yijKF",
        "outputId": "c2b1785f-6e01-493a-893e-975592ea221f"
      },
      "execution_count": 129,
      "outputs": [
        {
          "output_type": "execute_result",
          "data": {
            "text/plain": [
              "0.9036020040512085"
            ]
          },
          "metadata": {},
          "execution_count": 129
        }
      ]
    },
    {
      "cell_type": "code",
      "source": [
        "# if space is there then bleu score is failing with\n",
        "# IndexError: index 1 is out of bounds for dimension 0 with size 1\n",
        "candidate_corpus = ['a', 'b', '<s>']\n",
        "references_corpus = ['a', 'b', 'd']\n",
        "bleu_score(candidate_corpus, references_corpus, max_n=1, weights=[0.25])"
      ],
      "metadata": {
        "colab": {
          "base_uri": "https://localhost:8080/"
        },
        "id": "2GGs0LkAlOmQ",
        "outputId": "0b3842c7-850d-4fde-e6af-6d378c409b9f"
      },
      "execution_count": 141,
      "outputs": [
        {
          "output_type": "execute_result",
          "data": {
            "text/plain": [
              "0.7952707409858704"
            ]
          },
          "metadata": {},
          "execution_count": 141
        }
      ]
    },
    {
      "cell_type": "code",
      "source": [
        "# bleu score on first batch of test dataset\n",
        "\n",
        "bleu_score(actual, predictions, max_n=1, weights=[0.25])"
      ],
      "metadata": {
        "colab": {
          "base_uri": "https://localhost:8080/"
        },
        "id": "ZWjJfERFs8FD",
        "outputId": "f9e6b2dc-7472-4d6c-a5be-c6873efca239"
      },
      "execution_count": 130,
      "outputs": [
        {
          "output_type": "execute_result",
          "data": {
            "text/plain": [
              "0.0"
            ]
          },
          "metadata": {},
          "execution_count": 130
        }
      ]
    },
    {
      "cell_type": "code",
      "source": [
        "def calculate_bleu_score(rnn, loader):\n",
        "  rnn.eval()\n",
        "  scores = []\n",
        "\n",
        "  for batch_i, (inp_batch, target_batch) in enumerate(loader, 1):\n",
        "    # make sure you iterate over completely full batches, only\n",
        "    n_batches = len(loader.dataset)//batch_size\n",
        "    if(batch_i > n_batches):\n",
        "        break\n",
        "\n",
        "    hidden = rnn.init_hidden(batch_size)\n",
        "    hidden = tuple([each.data for each in hidden])\n",
        "    y_pred, hidden = rnn(inp_batch.cuda(), hidden)\n",
        "    \n",
        "    actual = index_to_chars_bleu(target_batch)\n",
        "    predictions = index_to_chars_bleu(torch.argmax(y_pred, dim=1))\n",
        "    \n",
        "    scores.append(bleu_score(actual, predictions, max_n=1, weights=[0.25]))\n",
        "\n",
        "  return np.average(scores)"
      ],
      "metadata": {
        "id": "2btto5RGt0up"
      },
      "execution_count": 45,
      "outputs": []
    },
    {
      "cell_type": "code",
      "source": [
        "# average bleu score on complete test dataset\n",
        "calculate_bleu_score(rnn, test_loader)"
      ],
      "metadata": {
        "colab": {
          "base_uri": "https://localhost:8080/"
        },
        "id": "VBjfiYZHjAxc",
        "outputId": "cd402127-0433-426b-cd36-5f2cb80356b7"
      },
      "execution_count": 151,
      "outputs": [
        {
          "output_type": "execute_result",
          "data": {
            "text/plain": [
              "0.005894420136069319"
            ]
          },
          "metadata": {},
          "execution_count": 151
        }
      ]
    },
    {
      "cell_type": "markdown",
      "source": [
        "# Training"
      ],
      "metadata": {
        "id": "rFix-fWRizlz"
      }
    },
    {
      "cell_type": "code",
      "source": [
        "batch_losses = []\n",
        "n_epochs = 5\n",
        "clip_norm = 5\n",
        "\n",
        "# put model in train mode\n",
        "rnn.train()\n",
        "\n",
        "for epoch_i in range(1, n_epochs + 1):\n",
        "  hidden = rnn.init_hidden(batch_size)\n",
        "  hidden = tuple([each.data for each in hidden])\n",
        "  for batch_i, (input_batch, target_batch) in enumerate(train_loader, 1):\n",
        "    # make sure you iterate over completely full batches, only\n",
        "    n_batches = len(train_loader.dataset)//batch_size\n",
        "    if(batch_i > n_batches):\n",
        "        break\n",
        "    \n",
        "    if train_on_gpu:\n",
        "      inp, target = input_batch.cuda(), target_batch.cuda()\n",
        "    \n",
        "    rnn.zero_grad()\n",
        "\n",
        "    output, hidden = rnn(inp, hidden)\n",
        "    loss = criterion(output, target)\n",
        "    loss.backward()\n",
        "    # `clip_grad_norm` helps prevent the exploding gradient problem in RNNs / LSTMs.\n",
        "    nn.utils.clip_grad_norm_(rnn.parameters(), clip_norm)\n",
        "    hidden = tuple([each.detach() for each in hidden])\n",
        "\n",
        "    optimizer.step()\n",
        "\n",
        "    batch_losses.append(loss.item())\n",
        "    if batch_i % 100000 == 0:\n",
        "      print({ 'batch': batch_i, 'loss': np.average(batch_losses) })\n",
        "\n",
        "  print(\"============================================\")\n",
        "  print({ 'epoch': epoch_i, 'loss': np.average(batch_losses) })\n",
        "  print(\"============================================\")"
      ],
      "metadata": {
        "colab": {
          "base_uri": "https://localhost:8080/",
          "height": 1000
        },
        "id": "UC6gB7-WcJ9W",
        "outputId": "8c1f1112-3682-4e6f-f1f8-62054482fa94"
      },
      "execution_count": 42,
      "outputs": [
        {
          "output_type": "stream",
          "name": "stdout",
          "text": [
            "{'batch': 100000, 'loss': 2.874912832775116}\n",
            "{'batch': 200000, 'loss': 2.849412460744381}\n",
            "{'batch': 300000, 'loss': 2.8363398210398354}\n",
            "{'batch': 400000, 'loss': 2.828697928137183}\n",
            "{'batch': 500000, 'loss': 2.8237013783507345}\n",
            "{'batch': 600000, 'loss': 2.820523172910611}\n",
            "{'batch': 700000, 'loss': 2.818390861775875}\n",
            "{'batch': 800000, 'loss': 2.8169036285007}\n",
            "{'batch': 900000, 'loss': 2.815867653551499}\n",
            "{'batch': 1000000, 'loss': 2.815198055323601}\n",
            "{'batch': 1100000, 'loss': 2.81477873716311}\n",
            "{'batch': 1200000, 'loss': 2.8144712843035657}\n",
            "{'batch': 1300000, 'loss': 2.815755772085465}\n",
            "{'batch': 1400000, 'loss': 2.815711309582421}\n",
            "{'batch': 1500000, 'loss': 2.8159097863376936}\n",
            "{'batch': 1600000, 'loss': 2.8160758887846025}\n",
            "{'batch': 1700000, 'loss': 2.8164108416267704}\n",
            "{'batch': 1800000, 'loss': 2.8166396071907545}\n",
            "{'batch': 1900000, 'loss': 2.8170534612492513}\n",
            "{'batch': 2000000, 'loss': 2.817533056913197}\n",
            "{'batch': 2100000, 'loss': 2.818049958797523}\n",
            "{'batch': 2200000, 'loss': 2.818530801958496}\n",
            "============================================\n",
            "{'epoch': 1, 'loss': 2.8190298012077992}\n",
            "============================================\n",
            "{'batch': 100000, 'loss': 2.8196299435364587}\n",
            "{'batch': 200000, 'loss': 2.8202614859176274}\n",
            "{'batch': 300000, 'loss': 2.820901649731624}\n",
            "{'batch': 400000, 'loss': 2.821553073889706}\n",
            "{'batch': 500000, 'loss': 2.8221818755760073}\n",
            "{'batch': 600000, 'loss': 2.822826716972729}\n",
            "{'batch': 700000, 'loss': 2.823450743297693}\n",
            "{'batch': 800000, 'loss': 2.82411818052355}\n",
            "{'batch': 900000, 'loss': 2.8248081460121606}\n",
            "{'batch': 1000000, 'loss': 2.82548836503522}\n",
            "{'batch': 1100000, 'loss': 2.826206933996752}\n",
            "{'batch': 1200000, 'loss': 2.82690319501734}\n",
            "{'batch': 1300000, 'loss': 2.8276439884011535}\n",
            "{'batch': 1400000, 'loss': 2.8284094452333184}\n",
            "{'batch': 1500000, 'loss': 2.8291737895546363}\n"
          ]
        },
        {
          "output_type": "error",
          "ename": "KeyboardInterrupt",
          "evalue": "ignored",
          "traceback": [
            "\u001b[0;31m---------------------------------------------------------------------------\u001b[0m",
            "\u001b[0;31mKeyboardInterrupt\u001b[0m                         Traceback (most recent call last)",
            "\u001b[0;32m<ipython-input-42-71a5e6a7d8ad>\u001b[0m in \u001b[0;36m<module>\u001b[0;34m()\u001b[0m\n\u001b[1;32m     22\u001b[0m     \u001b[0moutput\u001b[0m\u001b[0;34m,\u001b[0m \u001b[0mhidden\u001b[0m \u001b[0;34m=\u001b[0m \u001b[0mrnn\u001b[0m\u001b[0;34m(\u001b[0m\u001b[0minp\u001b[0m\u001b[0;34m,\u001b[0m \u001b[0mhidden\u001b[0m\u001b[0;34m)\u001b[0m\u001b[0;34m\u001b[0m\u001b[0;34m\u001b[0m\u001b[0m\n\u001b[1;32m     23\u001b[0m     \u001b[0mloss\u001b[0m \u001b[0;34m=\u001b[0m \u001b[0mcriterion\u001b[0m\u001b[0;34m(\u001b[0m\u001b[0moutput\u001b[0m\u001b[0;34m,\u001b[0m \u001b[0mtarget\u001b[0m\u001b[0;34m)\u001b[0m\u001b[0;34m\u001b[0m\u001b[0;34m\u001b[0m\u001b[0m\n\u001b[0;32m---> 24\u001b[0;31m     \u001b[0mloss\u001b[0m\u001b[0;34m.\u001b[0m\u001b[0mbackward\u001b[0m\u001b[0;34m(\u001b[0m\u001b[0;34m)\u001b[0m\u001b[0;34m\u001b[0m\u001b[0;34m\u001b[0m\u001b[0m\n\u001b[0m\u001b[1;32m     25\u001b[0m     \u001b[0;31m# `clip_grad_norm` helps prevent the exploding gradient problem in RNNs / LSTMs.\u001b[0m\u001b[0;34m\u001b[0m\u001b[0;34m\u001b[0m\u001b[0;34m\u001b[0m\u001b[0m\n\u001b[1;32m     26\u001b[0m     \u001b[0mnn\u001b[0m\u001b[0;34m.\u001b[0m\u001b[0mutils\u001b[0m\u001b[0;34m.\u001b[0m\u001b[0mclip_grad_norm_\u001b[0m\u001b[0;34m(\u001b[0m\u001b[0mrnn\u001b[0m\u001b[0;34m.\u001b[0m\u001b[0mparameters\u001b[0m\u001b[0;34m(\u001b[0m\u001b[0;34m)\u001b[0m\u001b[0;34m,\u001b[0m \u001b[0mclip_norm\u001b[0m\u001b[0;34m)\u001b[0m\u001b[0;34m\u001b[0m\u001b[0;34m\u001b[0m\u001b[0m\n",
            "\u001b[0;32m/usr/local/lib/python3.7/dist-packages/torch/_tensor.py\u001b[0m in \u001b[0;36mbackward\u001b[0;34m(self, gradient, retain_graph, create_graph, inputs)\u001b[0m\n\u001b[1;32m    361\u001b[0m                 \u001b[0mcreate_graph\u001b[0m\u001b[0;34m=\u001b[0m\u001b[0mcreate_graph\u001b[0m\u001b[0;34m,\u001b[0m\u001b[0;34m\u001b[0m\u001b[0;34m\u001b[0m\u001b[0m\n\u001b[1;32m    362\u001b[0m                 inputs=inputs)\n\u001b[0;32m--> 363\u001b[0;31m         \u001b[0mtorch\u001b[0m\u001b[0;34m.\u001b[0m\u001b[0mautograd\u001b[0m\u001b[0;34m.\u001b[0m\u001b[0mbackward\u001b[0m\u001b[0;34m(\u001b[0m\u001b[0mself\u001b[0m\u001b[0;34m,\u001b[0m \u001b[0mgradient\u001b[0m\u001b[0;34m,\u001b[0m \u001b[0mretain_graph\u001b[0m\u001b[0;34m,\u001b[0m \u001b[0mcreate_graph\u001b[0m\u001b[0;34m,\u001b[0m \u001b[0minputs\u001b[0m\u001b[0;34m=\u001b[0m\u001b[0minputs\u001b[0m\u001b[0;34m)\u001b[0m\u001b[0;34m\u001b[0m\u001b[0;34m\u001b[0m\u001b[0m\n\u001b[0m\u001b[1;32m    364\u001b[0m \u001b[0;34m\u001b[0m\u001b[0m\n\u001b[1;32m    365\u001b[0m     \u001b[0;32mdef\u001b[0m \u001b[0mregister_hook\u001b[0m\u001b[0;34m(\u001b[0m\u001b[0mself\u001b[0m\u001b[0;34m,\u001b[0m \u001b[0mhook\u001b[0m\u001b[0;34m)\u001b[0m\u001b[0;34m:\u001b[0m\u001b[0;34m\u001b[0m\u001b[0;34m\u001b[0m\u001b[0m\n",
            "\u001b[0;32m/usr/local/lib/python3.7/dist-packages/torch/autograd/__init__.py\u001b[0m in \u001b[0;36mbackward\u001b[0;34m(tensors, grad_tensors, retain_graph, create_graph, grad_variables, inputs)\u001b[0m\n\u001b[1;32m    173\u001b[0m     Variable._execution_engine.run_backward(  # Calls into the C++ engine to run the backward pass\n\u001b[1;32m    174\u001b[0m         \u001b[0mtensors\u001b[0m\u001b[0;34m,\u001b[0m \u001b[0mgrad_tensors_\u001b[0m\u001b[0;34m,\u001b[0m \u001b[0mretain_graph\u001b[0m\u001b[0;34m,\u001b[0m \u001b[0mcreate_graph\u001b[0m\u001b[0;34m,\u001b[0m \u001b[0minputs\u001b[0m\u001b[0;34m,\u001b[0m\u001b[0;34m\u001b[0m\u001b[0;34m\u001b[0m\u001b[0m\n\u001b[0;32m--> 175\u001b[0;31m         allow_unreachable=True, accumulate_grad=True)  # Calls into the C++ engine to run the backward pass\n\u001b[0m\u001b[1;32m    176\u001b[0m \u001b[0;34m\u001b[0m\u001b[0m\n\u001b[1;32m    177\u001b[0m def grad(\n",
            "\u001b[0;31mKeyboardInterrupt\u001b[0m: "
          ]
        }
      ]
    },
    {
      "cell_type": "code",
      "source": [
        "torch.save(rnn, 'model.pt')"
      ],
      "metadata": {
        "id": "mBdJMLQAs3GJ"
      },
      "execution_count": 43,
      "outputs": []
    },
    {
      "cell_type": "code",
      "source": [
        "calculate_bleu_score(rnn, test_loader)"
      ],
      "metadata": {
        "id": "G40ISQka_dkX",
        "colab": {
          "base_uri": "https://localhost:8080/"
        },
        "outputId": "beb4fe3d-c015-4e06-bd6e-2aff88f86e83"
      },
      "execution_count": 48,
      "outputs": [
        {
          "output_type": "execute_result",
          "data": {
            "text/plain": [
              "0.6569461258165805"
            ]
          },
          "metadata": {},
          "execution_count": 48
        }
      ]
    },
    {
      "cell_type": "code",
      "source": [
        "def generate(rnn, prime_id, seq_len, pad_value, predict_len):\n",
        "  rnn.eval()\n",
        "  current_seq = np.full((1, seq_len), pad_value)\n",
        "  current_seq[-1][-1] = prime_id\n",
        "  predicted = [indices_char[prime_id]]\n",
        "  for _ in range(predict_len):\n",
        "      current_seq = torch.LongTensor(current_seq).cuda()\n",
        "\n",
        "      # initialize the hidden state\n",
        "      hidden = rnn.init_hidden(current_seq.size(0))\n",
        "      hidden = tuple([each.data for each in hidden])\n",
        "      \n",
        "      # get the output of the rnn\n",
        "      output, _ = rnn(current_seq, hidden)\n",
        "\n",
        "      # get the next char probabilities\n",
        "      p = F.softmax(output, dim=1).data\n",
        "      if(train_on_gpu):\n",
        "          p = p.cpu() # move to cpu\n",
        "\n",
        "      # use top_k sampling to get the index of the next char\n",
        "      top_k = 5\n",
        "      p, top_i = p.topk(top_k)\n",
        "      top_i = top_i.numpy().squeeze()\n",
        "\n",
        "      # select the likely next word index with some element of randomness\n",
        "      p = p.numpy().squeeze()\n",
        "      char_i = np.random.choice(top_i, p=p/p.sum())\n",
        "\n",
        "      # retrieve that word from the dictionary\n",
        "      char = indices_char[char_i]\n",
        "      predicted.append(char)\n",
        "\n",
        "      if(train_on_gpu):\n",
        "          current_seq = current_seq.cpu() # move to cpu\n",
        "      # the generated word becomes the next \"current sequence\" and the cycle can continue\n",
        "      if train_on_gpu:\n",
        "          current_seq = current_seq.cpu()\n",
        "      current_seq = np.roll(current_seq, -1, 1)\n",
        "      current_seq[-1][-1] = char_i\n",
        "    \n",
        "  return ''.join(predicted)"
      ],
      "metadata": {
        "id": "7OR5eDAun1Gf"
      },
      "execution_count": 64,
      "outputs": []
    },
    {
      "cell_type": "code",
      "source": [
        "generate(rnn, char_indices['P'], seq_len, char_indices['<<pad>>'], 5)"
      ],
      "metadata": {
        "colab": {
          "base_uri": "https://localhost:8080/",
          "height": 35
        },
        "id": "sE6nl9hQryFN",
        "outputId": "87b85f64-aa8b-45e7-a3df-3178425a4184"
      },
      "execution_count": 66,
      "outputs": [
        {
          "output_type": "execute_result",
          "data": {
            "text/plain": [
              "'PAN143'"
            ],
            "application/vnd.google.colaboratory.intrinsic+json": {
              "type": "string"
            }
          },
          "metadata": {},
          "execution_count": 66
        }
      ]
    },
    {
      "cell_type": "code",
      "source": [
        "given_pass = 'pass'\n",
        "\n",
        "attempts = 1\n",
        "\n",
        "while True:\n",
        "  start_char = given_pass[0]\n",
        "  predicted_pass = generate(rnn, char_indices[start_char], seq_len, char_indices['<<pad>>'], len(given_pass) - 1)\n",
        "  print(predicted_pass)\n",
        "  if predicted_pass == given_pass:\n",
        "    print(\"Took {attempts} attempts to find password {given_pass}\")\n",
        "    break\n",
        "  attempts += 1"
      ],
      "metadata": {
        "colab": {
          "base_uri": "https://localhost:8080/"
        },
        "id": "kMcfHQj1XLnk",
        "outputId": "82bda510-aa87-46e7-e127-9b20b77c28b3"
      },
      "execution_count": 71,
      "outputs": [
        {
          "output_type": "stream",
          "name": "stdout",
          "text": [
            "patr\n",
            "pers\n",
            "peni\n",
            "peed\n",
            "pang\n",
            "pelo\n",
            "pand\n",
            "prad\n",
            "pee1\n",
            "prop\n",
            "pite\n",
            "pand\n",
            "popo\n",
            "pooh\n",
            "pong\n",
            "patr\n",
            "pack\n",
            "piem\n",
            "ping\n",
            "pete\n",
            "pelo\n",
            "perm\n",
            "prin\n",
            "pate\n",
            "peng\n",
            "pand\n",
            "pass\n",
            "Took {attempts} attempts to find password {given_pass}\n"
          ]
        }
      ]
    },
    {
      "cell_type": "code",
      "source": [
        ""
      ],
      "metadata": {
        "id": "pEyJWvzXkw5k"
      },
      "execution_count": null,
      "outputs": []
    }
  ]
}